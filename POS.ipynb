{
 "cells": [
  {
   "cell_type": "code",
   "execution_count": 2,
   "metadata": {},
   "outputs": [
    {
     "name": "stdout",
     "output_type": "stream",
     "text": [
      "[ 0.22746609 -1.62571084]\n",
      "-6.551127076377582\n",
      "0.9810118431238463\n"
     ]
    }
   ],
   "source": [
    "import numpy as np\n",
    "\n",
    "\n",
    "def functionArray(x):\n",
    "    return  3*(1-x[0])**2*np.e**(-x[0]**2-(x[1]+1)**2)-10*(x[0]/5-x[0]**3-x[1]**5)*np.e**(-x[0]**2-x[1]**2)-(np.e**(-(x[0]+1)**2-x[1]**2))/3\n",
    "\n",
    "def POS(func, d, stop, w, c1, c2):\n",
    "    dim = 2\n",
    "    x = np.random.uniform(-2, 2, (d, dim))\n",
    "    v = np.random.uniform(-2, 2, (d, dim))\n",
    "    p = x\n",
    "    g = x[0]\n",
    "    for i in range(len(x)):\n",
    "        if func(x[i]) < func(g):\n",
    "            g = x[i]\n",
    "\n",
    "    for i in range(stop):\n",
    "        r = np.random.uniform(0,1, (d, dim))\n",
    "        s = np.random.uniform(0,1, (d, dim))\n",
    "        v = w * v + (c1 * r) * (p - x) + (c2 * s) * (g - x)\n",
    "        x = x + v\n",
    "        for j in range(d):  \n",
    "            \n",
    "            if func(x[j]) < func(p[j]):\n",
    "                p[j] = x[j]\n",
    "            if func(x[j]) < func(g):\n",
    "                g = x[j]\n",
    "    return g\n",
    "\n",
    "\n",
    "x_res = POS(functionArray, 20, 100, 0.8, 1.95, 1.98)\n",
    "print(x_res)\n",
    "print(functionArray(x_res))\n",
    "print(functionArray([0,0]))"
   ]
  },
  {
   "cell_type": "code",
   "execution_count": 22,
   "metadata": {},
   "outputs": [
    {
     "name": "stdout",
     "output_type": "stream",
     "text": [
      "[ 0.21518725 -1.63230256]\n",
      "[[0 0]\n",
      " [0 0]]\n"
     ]
    }
   ],
   "source": [
    "\n",
    "def POS2(func, d, stop, w, c1, c2):\n",
    "    dim = 2\n",
    "    x = np.random.uniform(-2, 2, (d, dim))\n",
    "    v = np.random.uniform(-2, 2, (d, dim))\n",
    "    p = x\n",
    "    g = x[0]\n",
    "    for i in range(len(x)):\n",
    "        if func(x[i]) < func(g):\n",
    "            g = x[i]\n",
    "\n",
    "    for i in range(stop):\n",
    "        r = np.random.uniform(0,1, (d, dim))\n",
    "        s = np.random.uniform(0,1, (d, dim))\n",
    "        for j in range(d):\n",
    "            for i in range(dim):\n",
    "                v[j][i] = w * v[j][i] + (c1 * r[j][i]) * (p[j][i] - x[j][i]) + (c2 * s[j][i]) * (g[i] - x[j][i])\n",
    "        for j in range(d):\n",
    "            for i in range(dim):\n",
    "                x[j][i] = x[j][i] + v[j][i]\n",
    "        for j in range(d):  \n",
    "            if func(x[j]) < func(p[j]):\n",
    "                p[j] = x[j]\n",
    "            if func(x[j]) < func(g):\n",
    "                g = x[j]\n",
    "    return g\n",
    "\n",
    "\n",
    "x_res = POS2(functionArray, 40, 100, 0.8, 1.95, 1.98)\n",
    "print(x_res)\n",
    "a = np.array([2, 2])\n",
    "b = np.array([[2, 2], [2, 2]])\n",
    "print(a-b)"
   ]
  }
 ],
 "metadata": {
  "interpreter": {
   "hash": "0305797186e5b23b2dbde5736499e01b32f3bcfd44ad4b479fc191776976783f"
  },
  "kernelspec": {
   "display_name": "Python 3.7.10 64-bit ('base': conda)",
   "name": "python3"
  },
  "language_info": {
   "codemirror_mode": {
    "name": "ipython",
    "version": 3
   },
   "file_extension": ".py",
   "mimetype": "text/x-python",
   "name": "python",
   "nbconvert_exporter": "python",
   "pygments_lexer": "ipython3",
   "version": "3.7.10"
  },
  "orig_nbformat": 4
 },
 "nbformat": 4,
 "nbformat_minor": 2
}
